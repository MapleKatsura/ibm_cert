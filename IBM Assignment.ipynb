{
 "cells": [
  {
   "cell_type": "markdown",
   "id": "4d0f7bdb-1c16-438f-8b3d-f1c42fefaf9d",
   "metadata": {},
   "source": [
    "2.Create a markdown cell with the title of the notebook."
   ]
  },
  {
   "cell_type": "markdown",
   "id": "d65eef09-eee8-4405-941a-27e44d073019",
   "metadata": {},
   "source": [
    "# This is a Title"
   ]
  },
  {
   "cell_type": "markdown",
   "id": "315f34a3-2164-407d-88b9-e6bcd9d03b74",
   "metadata": {},
   "source": [
    "3.Create a markdown cell for an introduction"
   ]
  },
  {
   "cell_type": "markdown",
   "id": "5033f79b-7f41-4465-b85c-8bd38c390d19",
   "metadata": {},
   "source": [
    "**This is an introduction cell**"
   ]
  },
  {
   "cell_type": "markdown",
   "id": "f7163ad7-c047-438b-b6c6-62098fd26718",
   "metadata": {},
   "source": [
    "4.Create a markdown cell to list data science languages."
   ]
  },
  {
   "cell_type": "markdown",
   "id": "22ea7293-61d3-4562-8838-539bc49f77ed",
   "metadata": {},
   "source": [
    "**Data Science languages are:**\n",
    "- Python\n",
    "- R\n",
    "- SQL\n",
    "- Julia\n",
    "- Java\n",
    "- Matlab"
   ]
  },
  {
   "cell_type": "markdown",
   "id": "6ae0f22d-b8d8-42f7-abd0-84f8a3f8ba28",
   "metadata": {},
   "source": [
    "5.Create a markdown cell to list data science libraries."
   ]
  },
  {
   "cell_type": "markdown",
   "id": "35daffa8-5ac1-456a-b9d5-1b652c3a6e9c",
   "metadata": {},
   "source": [
    "**Data science libraries are:**\n",
    "- Numpy\n",
    "- Pandas\n",
    "- Scipy\n",
    "- Sklearn\n",
    "- Keras\n",
    "- PyTorch\n",
    "- Matplotlib\n",
    "- Seaborn"
   ]
  },
  {
   "cell_type": "markdown",
   "id": "8d162557-6285-4955-b3d6-52f738dac35b",
   "metadata": {},
   "source": [
    "6.Create a markdown cell with a table of Data Science tools."
   ]
  },
  {
   "cell_type": "markdown",
   "id": "9a087581-dbe2-4cb9-9471-4dc1953fe9d0",
   "metadata": {},
   "source": [
    "| Category | Tool Name | Purpose |\r\n",
    "| --- | --- | --- |\r\n",
    "| Programming Language | Python | General programming, data processing, machine learning, data visualization |\r\n",
    "| Programming Language | R | Statistical analysis, data visualization |\r\n",
    "| Programming Language | Julia | High-performance computing, scientific computing |\r\n",
    "| Programming Language | SQL | Database querying and managemssing |\r\n",
    "| Programming Language | MATLAB | Numerical computing, engineering simulation |\r\n",
    "| Data Processing Library | Pandas | Data processing and analysis |\r\n",
    "| Data Processing Library | NumPy | Numerical computing |\r\n",
    "| Data Processing Library | SciPy | Scientific d analysis |\r\n",
    "| Machine Learning Library | Scikit-learn | Machine learning algorithmng framework |\r\n",
    "| Machine Learning Library | TensorFlow | Deep learning framework |\r\n",
    "| Machine Learning Library | PyTorch | Deep learithms and tools |\r\n",
    "| Data Visualization Library | Matplotlib | 2D plotting |\r\n",
    "| Data Visualization Library | Seaborn | Advanced data visualization |\r\n",
    "| Data Visualization Library | Plotly | sting and collaboration |"
   ]
  },
  {
   "cell_type": "markdown",
   "id": "d289d349-eb0e-46f5-90f8-38cebba39b72",
   "metadata": {},
   "source": [
    "7.Create a markdown cell introducing arithmetic expression examples."
   ]
  },
  {
   "cell_type": "markdown",
   "id": "986a1842-399e-4488-a423-ce4b62dcb1a8",
   "metadata": {},
   "source": [
    "## Arithmetic Expressions in Python\n",
    "\n",
    "Arithmetic expressions are fundamental in programming and are used to perform mathematical operations. Here are some common arithmetic operators and examples:\n",
    "\n",
    "### Basic Arithmetic Operators\n",
    "\n",
    "- **Addition (+)**: Adds two numbers.\n",
    "  - Example: `5 + 3` results in `8`.\n",
    "- **Subtraction (-)**: Subtracts one number from another.\n",
    "  - Example: `10 - 4` results in `6`.\n",
    "- **Multiplication (*)**: Multiplies two numbers.\n",
    "  - Example: `7 * 2` results in `14`.\n",
    "- **Division (/)**: Divides one number by another.\n",
    "  - Example: `20 / 5` results in `4.0`.\n",
    "- **Modulus (%)**: Returns the remainder of the division.\n",
    "  - Example: `17 % 5` results in `2`.\n",
    "- **Exponentiation (**)**: Raises a number to the power of another.\n",
    "  - Example: `2 ** 3` results in `8`.\n",
    "- **Floor Division (//)**: Divides and returns the floor value (largest integer less than or equal to the result).\n",
    "  - Example: `17 // 5` results in `3`."
   ]
  },
  {
   "cell_type": "markdown",
   "id": "c0265fb2-2220-4881-8478-f8acbf89bdc1",
   "metadata": {},
   "source": [
    "8.Create a code cell to multiply and add numbers. "
   ]
  },
  {
   "cell_type": "code",
   "execution_count": 4,
   "id": "351462e4-fcde-457a-96cb-ed10788872bc",
   "metadata": {},
   "outputs": [
    {
     "data": {
      "text/plain": [
       "50"
      ]
     },
     "execution_count": 4,
     "metadata": {},
     "output_type": "execute_result"
    }
   ],
   "source": [
    "(5*8)+10"
   ]
  },
  {
   "cell_type": "markdown",
   "id": "351ab43f-87bc-44e2-968d-dc3b1318e1a0",
   "metadata": {},
   "source": [
    "9.Create a code cell to convert minutes to hours."
   ]
  },
  {
   "cell_type": "code",
   "execution_count": 9,
   "id": "7219de1f-7e3a-4981-9105-ac2e99c5df07",
   "metadata": {},
   "outputs": [
    {
     "name": "stdout",
     "output_type": "stream",
     "text": [
      "120 Minutes converted to 2 Hours\n"
     ]
    }
   ],
   "source": [
    "import numpy as np\n",
    "minutes = 120\n",
    "hours = minutes / 60\n",
    "print(f'{minutes} Minutes converted to {np.int32(hours)} Hours')"
   ]
  },
  {
   "cell_type": "markdown",
   "id": "bd0590ea-f623-4500-a73d-5b6cc4d46b1d",
   "metadata": {},
   "source": [
    "10.Insert a markdown cell to list Objectives."
   ]
  },
  {
   "cell_type": "markdown",
   "id": "3e73dd84-d826-4df3-b24e-378b36b97383",
   "metadata": {},
   "source": [
    "## Objectives\n",
    "\n",
    "1. **Understand the concept of converting minutes to hours**:\n",
    "   - Learn the mathematical formula for conversion.\n",
    "   - Apply the formula in a programming context.\n",
    "\n",
    "2. **Write a Python function to perform the conversion**:\n",
    "   - Define a function that takes minutes as input.\n",
    "   - Return the equivalent hours.\n",
    "\n",
    "3. **Test the function with example inputs**:\n",
    "   - Use specific values to test the function.\n",
    "   - Verify the correctness of the output.\n",
    "\n",
    "4. **Document the process and results**:\n",
    "   - Use Markdown cells to explain the code.\n",
    "   - Display the results of the function calls.\n",
    "\n",
    "5. **Understand the importance of unit testing**:\n",
    "   - Learn how to verify the correctness of your code.\n",
    "   - Apply basic testing principles to ensure reliability."
   ]
  },
  {
   "cell_type": "markdown",
   "id": "129d5b0c-d2ff-4fe7-9a9e-b6a7c30d0279",
   "metadata": {},
   "source": [
    "11.Create a markdown cell to indicate the Author’s name."
   ]
  },
  {
   "cell_type": "markdown",
   "id": "e029ec9a-9346-406a-b14f-bcc785dd22b5",
   "metadata": {},
   "source": [
    "Hello, My Name is XiangLee, looking forward to be a great DS, Nice to meet you guys!"
   ]
  },
  {
   "cell_type": "markdown",
   "id": "50f47135-5b93-47f5-b49c-71a61a1090f9",
   "metadata": {},
   "source": [
    "12.Share your notebook through GitHub"
   ]
  },
  {
   "cell_type": "markdown",
   "id": "86822d5a-96e6-4014-9de3-1f23c155c447",
   "metadata": {},
   "source": [
    "13.Take a screenshot of the first page of the notebook."
   ]
  }
 ],
 "metadata": {
  "kernelspec": {
   "display_name": "Python 3 (ipykernel)",
   "language": "python",
   "name": "python3"
  },
  "language_info": {
   "codemirror_mode": {
    "name": "ipython",
    "version": 3
   },
   "file_extension": ".py",
   "mimetype": "text/x-python",
   "name": "python",
   "nbconvert_exporter": "python",
   "pygments_lexer": "ipython3",
   "version": "3.11.7"
  }
 },
 "nbformat": 4,
 "nbformat_minor": 5
}
